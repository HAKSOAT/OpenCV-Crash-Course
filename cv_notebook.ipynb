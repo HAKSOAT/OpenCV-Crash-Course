{
 "cells": [
  {
   "cell_type": "code",
   "execution_count": 1,
   "metadata": {},
   "outputs": [],
   "source": [
    "# Importing Packages\n",
    "import cv2\n",
    "import numpy as np"
   ]
  },
  {
   "cell_type": "markdown",
   "metadata": {},
   "source": [
    "# Images & Windows in OpenCV\n",
    "The code snippets in this section below are for the corresponding section of the article. "
   ]
  },
  {
   "cell_type": "markdown",
   "metadata": {},
   "source": [
    "## Creating Windows"
   ]
  },
  {
   "cell_type": "code",
   "execution_count": 2,
   "metadata": {
    "scrolled": true
   },
   "outputs": [],
   "source": [
    "# Creating a Normal Window\n",
    "cv2.namedWindow('Normal', cv2.WINDOW_NORMAL)"
   ]
  },
  {
   "cell_type": "code",
   "execution_count": null,
   "metadata": {},
   "outputs": [],
   "source": [
    "# Creating an Autosized Window\n",
    "cv2.namedWindow('Autosize', cv2.WINDOW_AUTOSIZE)"
   ]
  },
  {
   "cell_type": "markdown",
   "metadata": {},
   "source": [
    "## Displaying Windows"
   ]
  },
  {
   "cell_type": "code",
   "execution_count": 3,
   "metadata": {
    "scrolled": true
   },
   "outputs": [
    {
     "data": {
      "text/plain": [
       "227"
      ]
     },
     "execution_count": 3,
     "metadata": {},
     "output_type": "execute_result"
    }
   ],
   "source": [
    "# Display window for five seconds or till a key is pressed\n",
    "cv2.namedWindow('Normal', cv2.WINDOW_NORMAL)\n",
    "cv2.waitKey(5000)"
   ]
  },
  {
   "cell_type": "code",
   "execution_count": 2,
   "metadata": {},
   "outputs": [
    {
     "data": {
      "text/plain": [
       "113"
      ]
     },
     "execution_count": 2,
     "metadata": {},
     "output_type": "execute_result"
    }
   ],
   "source": [
    "# Display window until a key is pressed\n",
    "cv2.namedWindow('Normal II', cv2.WINDOW_NORMAL)\n",
    "cv2.waitKey(0)"
   ]
  },
  {
   "cell_type": "markdown",
   "metadata": {},
   "source": [
    "## Destroying Windows"
   ]
  },
  {
   "cell_type": "code",
   "execution_count": 7,
   "metadata": {
    "scrolled": false
   },
   "outputs": [],
   "source": [
    "# Destroy a single window by window name\n",
    "cv2.namedWindow('Sample One', cv2.WINDOW_NORMAL)\n",
    "cv2.waitKey(5000)\n",
    "cv2.destroyWindow('Sample One')"
   ]
  },
  {
   "cell_type": "code",
   "execution_count": 8,
   "metadata": {},
   "outputs": [],
   "source": [
    "# Destroy all windows regardless of window name\n",
    "cv2.namedWindow('Sample Two', cv2.WINDOW_AUTOSIZE)\n",
    "cv2.namedWindow('Sample Three', cv2.WINDOW_NORMAL)\n",
    "cv2.waitKey(5000)\n",
    "cv2.destroyAllWindows()"
   ]
  },
  {
   "cell_type": "markdown",
   "metadata": {},
   "source": [
    "## Resizing Windows"
   ]
  },
  {
   "cell_type": "code",
   "execution_count": 102,
   "metadata": {},
   "outputs": [],
   "source": [
    "# Resize window to desired dimension; 600 x 300 in this case\n",
    "cv2.namedWindow('image', cv2.WINDOW_AUTOSIZE)\n",
    "cv2.resizeWindow('image', 600, 300)\n",
    "cv2.waitKey(5000)\n",
    "cv2.destroyAllWindows()"
   ]
  },
  {
   "cell_type": "markdown",
   "metadata": {},
   "source": [
    "## Reading Images"
   ]
  },
  {
   "cell_type": "code",
   "execution_count": 3,
   "metadata": {},
   "outputs": [
    {
     "name": "stdout",
     "output_type": "stream",
     "text": [
      "[[[255 204   0]\n",
      "  [255 204   0]\n",
      "  [255 204   0]\n",
      "  ..., \n",
      "  [255 204   0]\n",
      "  [255 204   0]\n",
      "  [255 204   0]]\n",
      "\n",
      " [[255 204   0]\n",
      "  [255 204   0]\n",
      "  [255 204   0]\n",
      "  ..., \n",
      "  [255 204   0]\n",
      "  [255 204   0]\n",
      "  [255 204   0]]\n",
      "\n",
      " [[255 204   0]\n",
      "  [255 204   0]\n",
      "  [255 204   0]\n",
      "  ..., \n",
      "  [255 204   0]\n",
      "  [255 204   0]\n",
      "  [255 204   0]]\n",
      "\n",
      " ..., \n",
      " [[255 204   0]\n",
      "  [255 204   0]\n",
      "  [255 204   0]\n",
      "  ..., \n",
      "  [254 203   0]\n",
      "  [254 204   0]\n",
      "  [255 205   0]]\n",
      "\n",
      " [[255 204   0]\n",
      "  [255 204   0]\n",
      "  [255 204   0]\n",
      "  ..., \n",
      "  [254 204   0]\n",
      "  [254 204   0]\n",
      "  [255 205   0]]\n",
      "\n",
      " [[255 204   0]\n",
      "  [255 204   0]\n",
      "  [255 204   0]\n",
      "  ..., \n",
      "  [254 204   0]\n",
      "  [254 204   0]\n",
      "  [255 205   0]]]\n"
     ]
    }
   ],
   "source": [
    "# Read an image\n",
    "image = cv2.imread(\"images/testimage.jpg\")\n",
    "# Print the pixels that make up the image as matrices\n",
    "print(image)"
   ]
  },
  {
   "cell_type": "code",
   "execution_count": 4,
   "metadata": {},
   "outputs": [
    {
     "name": "stdout",
     "output_type": "stream",
     "text": [
      "[[149 149 149 ..., 149 149 149]\n",
      " [149 149 149 ..., 149 149 149]\n",
      " [149 149 149 ..., 149 149 149]\n",
      " ..., \n",
      " [149 149 149 ..., 148 148 149]\n",
      " [149 149 149 ..., 148 148 149]\n",
      " [149 149 149 ..., 148 148 149]]\n"
     ]
    }
   ],
   "source": [
    "# Read an image in grayscale mode\n",
    "image = cv2.imread(\"./images/testimage.jpg\", cv2.IMREAD_GRAYSCALE)\n",
    "# Print the pixels that make up the image as matrices\n",
    "print(image)"
   ]
  },
  {
   "cell_type": "markdown",
   "metadata": {},
   "source": [
    "## Displaying Images"
   ]
  },
  {
   "cell_type": "code",
   "execution_count": 5,
   "metadata": {
    "scrolled": true
   },
   "outputs": [],
   "source": [
    "# Read and display an image in BGR and Grayscale modes\n",
    "image = cv2.imread('./images/testimage.jpg')\n",
    "cv2.namedWindow('Cars', cv2.WINDOW_NORMAL)\n",
    "cv2.imshow('Cars', image)\n",
    "cv2.waitKey(5000)\n",
    "image = cv2.imread('./images/testimage.jpg', cv2.IMREAD_GRAYSCALE)\n",
    "cv2.imshow('Cars', image)\n",
    "cv2.waitKey(5000)\n",
    "cv2.destroyWindow('Cars')"
   ]
  },
  {
   "cell_type": "markdown",
   "metadata": {},
   "source": [
    "## Saving Images"
   ]
  },
  {
   "cell_type": "code",
   "execution_count": 18,
   "metadata": {},
   "outputs": [],
   "source": [
    "# Read and save image in grayscale mode\n",
    "gray_image = cv2.imread(\"./images/testimage.jpg\", cv2.IMREAD_GRAYSCALE)\n",
    "cv2.imwrite(\"./images/grayimage.jpg\", gray_image)"
   ]
  },
  {
   "cell_type": "markdown",
   "metadata": {},
   "source": [
    "# Editing Images with OpenCV\n",
    "The code snippets in this section below are for the corresponding section of the article."
   ]
  },
  {
   "cell_type": "markdown",
   "metadata": {},
   "source": [
    "## Switching Color Modes"
   ]
  },
  {
   "cell_type": "code",
   "execution_count": 6,
   "metadata": {},
   "outputs": [],
   "source": [
    "# Convert image from BGR to YCrCb using the integer value 36\n",
    "image = cv2.imread(\"images/testimage.jpg\")\n",
    "image_mode = cv2.cvtColor(image, 36)\n",
    "cv2.imshow(\"Cars\", image_mode)\n",
    "cv2.waitKey(5000)\n",
    "cv2.destroyAllWindows()"
   ]
  },
  {
   "cell_type": "code",
   "execution_count": 14,
   "metadata": {},
   "outputs": [],
   "source": [
    "# Convert image from BGR to Grayscale using the constant attribute COLOR_BGR2GRAY\n",
    "image = cv2.imread(\"./images/testimage.jpg\")\n",
    "image_gray = cv2.cvtColor(image, cv2.COLOR_BGR2GRAY)\n",
    "cv2.imshow(\"Cars\", image_gray)\n",
    "cv2.waitKey(5000)\n",
    "cv2.destroyAllWindows()"
   ]
  },
  {
   "cell_type": "markdown",
   "metadata": {},
   "source": [
    "## Editing Pixel Values"
   ]
  },
  {
   "cell_type": "code",
   "execution_count": 15,
   "metadata": {},
   "outputs": [
    {
     "name": "stdout",
     "output_type": "stream",
     "text": [
      "(720, 1280, 3)\n",
      "(720, 1280)\n"
     ]
    }
   ],
   "source": [
    "# Check image dimensions\n",
    "image = cv2.imread(\"./images/testimage.jpg\")\n",
    "print(image.shape)\n",
    "image_gray = cv2.imread(\"./images/testimage.jpg\", cv2.IMREAD_GRAYSCALE)\n",
    "print(image_gray.shape)"
   ]
  },
  {
   "cell_type": "code",
   "execution_count": 7,
   "metadata": {},
   "outputs": [],
   "source": [
    "# Fill left half of image with black pixels\n",
    "image = cv2.imread(\"./images/testimage.jpg\", cv2.IMREAD_GRAYSCALE)\n",
    "edited_image = image.copy()\n",
    "edited_image[:, :640] = 0\n",
    "cv2.namedWindow('Cars',cv2.WINDOW_NORMAL)\n",
    "cv2.imshow('Cars', edited_image)\n",
    "cv2.waitKey(5000)\n",
    "cv2.destroyWindow('Cars')"
   ]
  },
  {
   "cell_type": "markdown",
   "metadata": {},
   "source": [
    "## Joining images"
   ]
  },
  {
   "cell_type": "code",
   "execution_count": 8,
   "metadata": {},
   "outputs": [],
   "source": [
    "# Join three images horizontally\n",
    "image = cv2.imread(\"./images/logo.jpg\")\n",
    "hcombine = np.hstack((image, image, image))\n",
    "cv2.imshow(\"Cars Combined\", hcombine)\n",
    "cv2.waitKey(5000)\n",
    "cv2.destroyAllWindows()"
   ]
  },
  {
   "cell_type": "code",
   "execution_count": 3,
   "metadata": {},
   "outputs": [],
   "source": [
    "# Join three images vertically\n",
    "image = cv2.imread(\"./images/logo.jpg\")\n",
    "vcombine = np.vstack((image, image, image))\n",
    "cv2.imshow(\"Cars Combined\", vcombine)\n",
    "cv2.waitKey(5000)\n",
    "cv2.destroyAllWindows()"
   ]
  },
  {
   "cell_type": "markdown",
   "metadata": {},
   "source": [
    "## Accessing Color Channels"
   ]
  },
  {
   "cell_type": "code",
   "execution_count": 24,
   "metadata": {},
   "outputs": [],
   "source": [
    "# Eliminate Blue and Green channels by making them Black\n",
    "image = cv2.imread(\"./images/logo.jpg\")\n",
    "image_r = image.copy()\n",
    "image_r[:, :, 0] = 0\n",
    "image_r[:, :, 1] = 0\n",
    "cv2.imshow(\"Red Channel\", image_r)\n",
    "cv2.waitKey(5000)\n",
    "cv2.destroyAllWindows()"
   ]
  },
  {
   "cell_type": "code",
   "execution_count": 9,
   "metadata": {},
   "outputs": [],
   "source": [
    "# Extract individual channels and join the resulting images\n",
    "image = cv2.imread(\"./images/logo.jpg\")\n",
    "image_b = image.copy()\n",
    "image_b[:, :, 1] = 0\n",
    "image_b[:, :, 2] = 0\n",
    "image_g = image.copy()\n",
    "image_g[:, :, 0] = 0\n",
    "image_g[:, :, 2] = 0\n",
    "image_r = image.copy()\n",
    "image_r[:, :, 0] = 0\n",
    "image_r[:, :, 1] = 0\n",
    "numpy_horizontal = np.hstack((image_b, image_g, image_r))\n",
    "cv2.namedWindow('image',cv2.WINDOW_NORMAL)\n",
    "cv2.resizeWindow('image', 800, 800)\n",
    "cv2.imshow(\"image\", numpy_horizontal)\n",
    "cv2.waitKey(5000)\n",
    "cv2.destroyAllWindows()"
   ]
  },
  {
   "cell_type": "markdown",
   "metadata": {},
   "source": [
    "## Cropping Images"
   ]
  },
  {
   "cell_type": "code",
   "execution_count": 10,
   "metadata": {},
   "outputs": [],
   "source": [
    "# Crop an image using desired pixel values\n",
    "image = cv2.imread('./images/testimage.jpg')\n",
    "cv2.namedWindow('Cars',cv2.WINDOW_NORMAL)\n",
    "edited_image = image.copy()\n",
    "edited_image = edited_image[30:190, 205:560]\n",
    "cv2.imshow('Cars', edited_image)\n",
    "cv2.waitKey(5000)\n",
    "cv2.destroyWindow('Cars')"
   ]
  },
  {
   "cell_type": "markdown",
   "metadata": {},
   "source": [
    "## Drawing on Images"
   ]
  },
  {
   "cell_type": "code",
   "execution_count": 11,
   "metadata": {},
   "outputs": [],
   "source": [
    "# Put text on an image\n",
    "image = cv2.imread('./images/croppedimage.jpg')\n",
    "font = cv2.FONT_HERSHEY_COMPLEX\n",
    "cv2.putText(image,'LinuxHint',(85,32), font, 0.8,(0, 0, 0),1)\n",
    "cv2.namedWindow('Car',cv2.WINDOW_NORMAL)\n",
    "cv2.imshow('Car', image)\n",
    "cv2.waitKey(5000)\n",
    "cv2.destroyWindow('Car')"
   ]
  },
  {
   "cell_type": "code",
   "execution_count": 12,
   "metadata": {},
   "outputs": [],
   "source": [
    "# Draw a line on an image\n",
    "image = cv2.imread('./images/testimage.jpg')\n",
    "cv2.line(image,(0,380),(1280,380),(0,255,0),10)\n",
    "cv2.namedWindow('Car',cv2.WINDOW_NORMAL)\n",
    "cv2.imshow('Car', image)\n",
    "cv2.waitKey(5000)\n",
    "cv2.destroyWindow('Car')"
   ]
  },
  {
   "cell_type": "code",
   "execution_count": 13,
   "metadata": {},
   "outputs": [],
   "source": [
    "# Drawing a circle on an image\n",
    "image = cv2.imread('./images/testimage.jpg')\n",
    "cv2.circle(image,(110,125), 100, (0,0,255), -1)\n",
    "cv2.circle(image,(1180,490), 80, (0,0,0), 1)\n",
    "cv2.namedWindow('Car',cv2.WINDOW_NORMAL)\n",
    "cv2.imshow('Car', image)\n",
    "cv2.waitKey(5000)\n",
    "cv2.destroyWindow('Car')"
   ]
  },
  {
   "cell_type": "markdown",
   "metadata": {},
   "source": [
    "## Applying Image Filters"
   ]
  },
  {
   "cell_type": "code",
   "execution_count": 17,
   "metadata": {},
   "outputs": [],
   "source": [
    "# Applying the Gaussian Blur image filter\n",
    "image = cv2.imread('./images/testimage.jpg')\n",
    "blurred = cv2.GaussianBlur(image, (5,5), 0)\n",
    "cv2.namedWindow('Cars', cv2.WINDOW_NORMAL)\n",
    "cv2.imshow('Cars', blurred)\n",
    "cv2.waitKey(5000)\n",
    "blurred = cv2.GaussianBlur(image, (25,25), 0)\n",
    "cv2.namedWindow('Cars', cv2.WINDOW_NORMAL)\n",
    "cv2.imshow('Cars', blurred)\n",
    "cv2.waitKey(5000)\n",
    "cv2.destroyWindow('Cars')"
   ]
  },
  {
   "cell_type": "markdown",
   "metadata": {},
   "source": [
    "# Videos in OpenCV\n",
    "The code snippets in this section below are for the corresponding section of the article."
   ]
  },
  {
   "cell_type": "markdown",
   "metadata": {},
   "source": [
    "## Loading Videos"
   ]
  },
  {
   "cell_type": "code",
   "execution_count": 33,
   "metadata": {},
   "outputs": [],
   "source": [
    "# Load a video\n",
    "video = cv2.VideoCapture(\"./videos/testvideo.mp4\")"
   ]
  },
  {
   "cell_type": "markdown",
   "metadata": {},
   "source": [
    "## Displaying Videos"
   ]
  },
  {
   "cell_type": "code",
   "execution_count": 35,
   "metadata": {},
   "outputs": [],
   "source": [
    "# Display video at a fast pace, and quit display if the key \"q\" is pressed\n",
    "video = cv2.VideoCapture('./videos/testvideo.mp4')\n",
    "while(video.isOpened()):\n",
    "    ret, image = video.read()\n",
    "    if image is None:\n",
    "        break\n",
    "    cv2.imshow('Video Frame', image)\n",
    "    if cv2.waitKey(1) & 0xFF == ord('q'):\n",
    "        break\n",
    "\n",
    "video.release()\n",
    "cv2.destroyAllWindows()"
   ]
  },
  {
   "cell_type": "code",
   "execution_count": null,
   "metadata": {},
   "outputs": [],
   "source": [
    "# Display video at a slow pace, and quit display if the key \"q\" is pressed\n",
    "video = cv2.VideoCapture('./videos/testvideo.mp4')\n",
    "while(video.isOpened()):\n",
    "    ret, image = video.read()\n",
    "    if image is None:\n",
    "        print(ret)\n",
    "        break\n",
    "    cv2.imshow('Video Frame', image)\n",
    "    if cv2.waitKey(40) & 0xFF == ord('q'):\n",
    "        break\n",
    "\n",
    "video.release()\n",
    "cv2.destroyAllWindows()"
   ]
  },
  {
   "cell_type": "markdown",
   "metadata": {},
   "source": [
    "## Accessing the WebCam"
   ]
  },
  {
   "cell_type": "code",
   "execution_count": 37,
   "metadata": {},
   "outputs": [],
   "source": [
    "# Activate webcam and display video in real time\n",
    "video = cv2.VideoCapture(0)\n",
    "while(video.isOpened()):\n",
    "    ret, image = video.read()\n",
    "    cv2.imshow('Live Cam', image)\n",
    "    if cv2.waitKey(1) & 0xFF == ord('q'):\n",
    "        break\n",
    "\n",
    "video.release()\n",
    "cv2.destroyAllWindows()"
   ]
  },
  {
   "cell_type": "markdown",
   "metadata": {},
   "source": [
    "## Recording Videos"
   ]
  },
  {
   "cell_type": "code",
   "execution_count": 38,
   "metadata": {},
   "outputs": [],
   "source": [
    "# Record videos from the webcam\n",
    "video = cv2.VideoCapture(0)\n",
    "fourcc = cv2.VideoWriter_fourcc('X','V','I','D')\n",
    "writer = cv2.VideoWriter('out.avi',fourcc, 15.0, (640,480))\n",
    "while(video.isOpened()):\n",
    "    ret, image = video.read()\n",
    "    writer.write(image)\n",
    "    cv2.imshow('frame',image)\n",
    "    if cv2.waitKey(1) & 0xFF == ord('q'):\n",
    "        break\n",
    "\n",
    "video.release()\n",
    "writer.release()\n",
    "cv2.destroyAllWindows()"
   ]
  }
 ],
 "metadata": {
  "kernelspec": {
   "display_name": "Python 3",
   "language": "python",
   "name": "python3"
  },
  "language_info": {
   "codemirror_mode": {
    "name": "ipython",
    "version": 3
   },
   "file_extension": ".py",
   "mimetype": "text/x-python",
   "name": "python",
   "nbconvert_exporter": "python",
   "pygments_lexer": "ipython3",
   "version": "3.6.7"
  }
 },
 "nbformat": 4,
 "nbformat_minor": 2
}
